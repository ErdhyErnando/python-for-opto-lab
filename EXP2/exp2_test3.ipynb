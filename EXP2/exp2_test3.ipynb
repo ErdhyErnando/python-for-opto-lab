{
 "cells": [
  {
   "cell_type": "code",
   "execution_count": 10,
   "metadata": {},
   "outputs": [],
   "source": [
    "import pandas as pd\n",
    "\n",
    "# Load and preprocess data\n",
    "data = pd.read_csv('Dark18.csv', delim_whitespace=True)\n",
    "voltage = pd.to_numeric(data['VOLT1'], errors='coerce')\n",
    "current = pd.to_numeric(data[',CURR1'].str.replace(',', ''), errors='coerce')\n",
    "\n"
   ]
  },
  {
   "cell_type": "code",
   "execution_count": 11,
   "metadata": {},
   "outputs": [
    {
     "ename": "ValueError",
     "evalue": "array must not contain infs or NaNs",
     "output_type": "error",
     "traceback": [
      "\u001b[1;31m---------------------------------------------------------------------------\u001b[0m",
      "\u001b[1;31mValueError\u001b[0m                                Traceback (most recent call last)",
      "Cell \u001b[1;32mIn[11], line 17\u001b[0m\n\u001b[0;32m     14\u001b[0m initial_guess \u001b[38;5;241m=\u001b[39m [\u001b[38;5;241m1e-10\u001b[39m, \u001b[38;5;241m1.5\u001b[39m, \u001b[38;5;241m0.01\u001b[39m, \u001b[38;5;241m1000\u001b[39m]  \u001b[38;5;66;03m# I_s, n, R_s, R_p\u001b[39;00m\n\u001b[0;32m     16\u001b[0m \u001b[38;5;66;03m# Fit the curve\u001b[39;00m\n\u001b[1;32m---> 17\u001b[0m params, _ \u001b[38;5;241m=\u001b[39m \u001b[43mcurve_fit\u001b[49m\u001b[43m(\u001b[49m\u001b[43msolar_cell_model\u001b[49m\u001b[43m,\u001b[49m\u001b[43m \u001b[49m\u001b[43mvoltage\u001b[49m\u001b[43m,\u001b[49m\u001b[43m \u001b[49m\u001b[43mcurrent\u001b[49m\u001b[43m,\u001b[49m\u001b[43m \u001b[49m\u001b[43mp0\u001b[49m\u001b[38;5;241;43m=\u001b[39;49m\u001b[43minitial_guess\u001b[49m\u001b[43m)\u001b[49m\n\u001b[0;32m     18\u001b[0m I_s, n, R_s, R_p \u001b[38;5;241m=\u001b[39m params\n\u001b[0;32m     20\u001b[0m \u001b[38;5;66;03m# Print the fitted parameters\u001b[39;00m\n",
      "File \u001b[1;32mc:\\Software\\envs\\LoadProfile_Generator\\lib\\site-packages\\scipy\\optimize\\_minpack_py.py:807\u001b[0m, in \u001b[0;36mcurve_fit\u001b[1;34m(f, xdata, ydata, p0, sigma, absolute_sigma, check_finite, bounds, method, jac, full_output, **kwargs)\u001b[0m\n\u001b[0;32m    803\u001b[0m \u001b[38;5;66;03m# optimization may produce garbage for float32 inputs, cast them to float64\u001b[39;00m\n\u001b[0;32m    804\u001b[0m \n\u001b[0;32m    805\u001b[0m \u001b[38;5;66;03m# NaNs cannot be handled\u001b[39;00m\n\u001b[0;32m    806\u001b[0m \u001b[38;5;28;01mif\u001b[39;00m check_finite:\n\u001b[1;32m--> 807\u001b[0m     ydata \u001b[38;5;241m=\u001b[39m \u001b[43mnp\u001b[49m\u001b[38;5;241;43m.\u001b[39;49m\u001b[43masarray_chkfinite\u001b[49m\u001b[43m(\u001b[49m\u001b[43mydata\u001b[49m\u001b[43m,\u001b[49m\u001b[43m \u001b[49m\u001b[38;5;28;43mfloat\u001b[39;49m\u001b[43m)\u001b[49m\n\u001b[0;32m    808\u001b[0m \u001b[38;5;28;01melse\u001b[39;00m:\n\u001b[0;32m    809\u001b[0m     ydata \u001b[38;5;241m=\u001b[39m np\u001b[38;5;241m.\u001b[39masarray(ydata, \u001b[38;5;28mfloat\u001b[39m)\n",
      "File \u001b[1;32mc:\\Software\\envs\\LoadProfile_Generator\\lib\\site-packages\\numpy\\lib\\function_base.py:627\u001b[0m, in \u001b[0;36masarray_chkfinite\u001b[1;34m(a, dtype, order)\u001b[0m\n\u001b[0;32m    625\u001b[0m a \u001b[38;5;241m=\u001b[39m asarray(a, dtype\u001b[38;5;241m=\u001b[39mdtype, order\u001b[38;5;241m=\u001b[39morder)\n\u001b[0;32m    626\u001b[0m \u001b[38;5;28;01mif\u001b[39;00m a\u001b[38;5;241m.\u001b[39mdtype\u001b[38;5;241m.\u001b[39mchar \u001b[38;5;129;01min\u001b[39;00m typecodes[\u001b[38;5;124m'\u001b[39m\u001b[38;5;124mAllFloat\u001b[39m\u001b[38;5;124m'\u001b[39m] \u001b[38;5;129;01mand\u001b[39;00m \u001b[38;5;129;01mnot\u001b[39;00m np\u001b[38;5;241m.\u001b[39misfinite(a)\u001b[38;5;241m.\u001b[39mall():\n\u001b[1;32m--> 627\u001b[0m     \u001b[38;5;28;01mraise\u001b[39;00m \u001b[38;5;167;01mValueError\u001b[39;00m(\n\u001b[0;32m    628\u001b[0m         \u001b[38;5;124m\"\u001b[39m\u001b[38;5;124marray must not contain infs or NaNs\u001b[39m\u001b[38;5;124m\"\u001b[39m)\n\u001b[0;32m    629\u001b[0m \u001b[38;5;28;01mreturn\u001b[39;00m a\n",
      "\u001b[1;31mValueError\u001b[0m: array must not contain infs or NaNs"
     ]
    }
   ],
   "source": [
    "import numpy as np\n",
    "from scipy.optimize import curve_fit\n",
    "\n",
    "# Constants\n",
    "q = 1.602e-19  # Elementary charge (C)\n",
    "k = 1.381e-23  # Boltzmann constant (J/K)\n",
    "T = 293  # Temperature in Kelvin (e.g., 20°C)\n",
    "\n",
    "# Define the solar cell model\n",
    "def solar_cell_model(V, I_s, n, R_s, R_p):\n",
    "    return I_s * (np.exp(q * (V + I_s * R_s) / (n * k * T)) - 1) + (V + I_s * R_s) / R_p\n",
    "\n",
    "# Initial guesses for the parameters\n",
    "initial_guess = [1e-10, 1.5, 0.01, 1000]  # I_s, n, R_s, R_p\n",
    "\n",
    "# Fit the curve\n",
    "params, _ = curve_fit(solar_cell_model, voltage, current, p0=initial_guess)\n",
    "I_s, n, R_s, R_p = params\n",
    "\n",
    "# Print the fitted parameters\n",
    "print(f\"I_s: {I_s} A\")\n",
    "print(f\"n: {n}\")\n",
    "print(f\"R_s: {R_s} Ω\")\n",
    "print(f\"R_p: {R_p} Ω\")\n"
   ]
  },
  {
   "cell_type": "code",
   "execution_count": 12,
   "metadata": {},
   "outputs": [
    {
     "name": "stdout",
     "output_type": "stream",
     "text": [
      "W_g: 1.958 eV\n"
     ]
    }
   ],
   "source": [
    "# Example: Calculate W_g from multiple temperatures\n",
    "temperatures = np.array([18, 20, 22]) + 273  # Temperatures in Kelvin\n",
    "I_s_values = [1e-12, 2e-12, 3e-12]  # Replace with actual I_s from fitting\n",
    "\n",
    "T_inv = 1 / temperatures\n",
    "ln_Is_T3 = np.log(I_s_values / temperatures**3)\n",
    "\n",
    "# Linear fit\n",
    "coeffs = np.polyfit(T_inv, ln_Is_T3, 1)\n",
    "W_g = -coeffs[0] * k  # W_g in Joules\n",
    "W_g_eV = W_g / q  # Convert to eV\n",
    "\n",
    "print(f\"W_g: {W_g_eV:.3f} eV\")\n"
   ]
  }
 ],
 "metadata": {
  "kernelspec": {
   "display_name": "LoadProfile_Generator",
   "language": "python",
   "name": "python3"
  },
  "language_info": {
   "codemirror_mode": {
    "name": "ipython",
    "version": 3
   },
   "file_extension": ".py",
   "mimetype": "text/x-python",
   "name": "python",
   "nbconvert_exporter": "python",
   "pygments_lexer": "ipython3",
   "version": "3.10.14"
  }
 },
 "nbformat": 4,
 "nbformat_minor": 2
}
